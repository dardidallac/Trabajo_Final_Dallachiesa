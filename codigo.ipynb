{
 "cells": [
  {
   "cell_type": "code",
   "execution_count": 300,
   "metadata": {},
   "outputs": [],
   "source": [
    "import scipy.stats as ss\n",
    "import statsmodels.stats.power as smp\n",
    "import numpy as np\n",
    "from statsmodels.stats.power import TTestIndPower\n",
    "import pandas as pd\n",
    "import matplotlib.pyplot as plt\n",
    "from scipy.stats import chi2_contingency\n",
    "from scipy.stats import linregress"
   ]
  },
  {
   "cell_type": "code",
   "execution_count": 301,
   "metadata": {},
   "outputs": [
    {
     "data": {
      "text/html": [
       "<div>\n",
       "<style scoped>\n",
       "    .dataframe tbody tr th:only-of-type {\n",
       "        vertical-align: middle;\n",
       "    }\n",
       "\n",
       "    .dataframe tbody tr th {\n",
       "        vertical-align: top;\n",
       "    }\n",
       "\n",
       "    .dataframe thead th {\n",
       "        text-align: right;\n",
       "    }\n",
       "</style>\n",
       "<table border=\"1\" class=\"dataframe\">\n",
       "  <thead>\n",
       "    <tr style=\"text-align: right;\">\n",
       "      <th></th>\n",
       "      <th>Planta</th>\n",
       "      <th>Población</th>\n",
       "      <th>Altura (cm)</th>\n",
       "      <th>Temperatura (°C)</th>\n",
       "      <th>Humedad (%)</th>\n",
       "      <th>Crecimiento</th>\n",
       "    </tr>\n",
       "  </thead>\n",
       "  <tbody>\n",
       "    <tr>\n",
       "      <th>0</th>\n",
       "      <td>Glycine max</td>\n",
       "      <td>100</td>\n",
       "      <td>30.5</td>\n",
       "      <td>25</td>\n",
       "      <td>60</td>\n",
       "      <td>Óptimo</td>\n",
       "    </tr>\n",
       "    <tr>\n",
       "      <th>1</th>\n",
       "      <td>Phaseolus vulgaris</td>\n",
       "      <td>80</td>\n",
       "      <td>25.2</td>\n",
       "      <td>28</td>\n",
       "      <td>55</td>\n",
       "      <td>Deficiente</td>\n",
       "    </tr>\n",
       "    <tr>\n",
       "      <th>2</th>\n",
       "      <td>Medicago truncatula</td>\n",
       "      <td>120</td>\n",
       "      <td>32.1</td>\n",
       "      <td>23</td>\n",
       "      <td>58</td>\n",
       "      <td>Óptimo</td>\n",
       "    </tr>\n",
       "    <tr>\n",
       "      <th>3</th>\n",
       "      <td>Glycine max</td>\n",
       "      <td>95</td>\n",
       "      <td>28.9</td>\n",
       "      <td>27</td>\n",
       "      <td>62</td>\n",
       "      <td>Óptimo</td>\n",
       "    </tr>\n",
       "    <tr>\n",
       "      <th>4</th>\n",
       "      <td>Phaseolus vulgaris</td>\n",
       "      <td>85</td>\n",
       "      <td>26.5</td>\n",
       "      <td>26</td>\n",
       "      <td>59</td>\n",
       "      <td>Deficiente</td>\n",
       "    </tr>\n",
       "    <tr>\n",
       "      <th>5</th>\n",
       "      <td>Medicago truncatula</td>\n",
       "      <td>110</td>\n",
       "      <td>31.3</td>\n",
       "      <td>24</td>\n",
       "      <td>61</td>\n",
       "      <td>Óptimo</td>\n",
       "    </tr>\n",
       "    <tr>\n",
       "      <th>6</th>\n",
       "      <td>Glycine max</td>\n",
       "      <td>105</td>\n",
       "      <td>29.8</td>\n",
       "      <td>25</td>\n",
       "      <td>63</td>\n",
       "      <td>Óptimo</td>\n",
       "    </tr>\n",
       "    <tr>\n",
       "      <th>7</th>\n",
       "      <td>Phaseolus vulgaris</td>\n",
       "      <td>75</td>\n",
       "      <td>24.7</td>\n",
       "      <td>29</td>\n",
       "      <td>56</td>\n",
       "      <td>Deficiente</td>\n",
       "    </tr>\n",
       "    <tr>\n",
       "      <th>8</th>\n",
       "      <td>Medicago truncatula</td>\n",
       "      <td>115</td>\n",
       "      <td>30.9</td>\n",
       "      <td>22</td>\n",
       "      <td>57</td>\n",
       "      <td>Óptimo</td>\n",
       "    </tr>\n",
       "    <tr>\n",
       "      <th>9</th>\n",
       "      <td>Glycine max</td>\n",
       "      <td>90</td>\n",
       "      <td>27.6</td>\n",
       "      <td>26</td>\n",
       "      <td>64</td>\n",
       "      <td>Óptimo</td>\n",
       "    </tr>\n",
       "    <tr>\n",
       "      <th>10</th>\n",
       "      <td>Phaseolus vulgaris</td>\n",
       "      <td>70</td>\n",
       "      <td>23.8</td>\n",
       "      <td>30</td>\n",
       "      <td>58</td>\n",
       "      <td>Deficiente</td>\n",
       "    </tr>\n",
       "    <tr>\n",
       "      <th>11</th>\n",
       "      <td>Medicago truncatula</td>\n",
       "      <td>105</td>\n",
       "      <td>29.5</td>\n",
       "      <td>24</td>\n",
       "      <td>62</td>\n",
       "      <td>Óptimo</td>\n",
       "    </tr>\n",
       "  </tbody>\n",
       "</table>\n",
       "</div>"
      ],
      "text/plain": [
       "                 Planta  Población  Altura (cm)  Temperatura (°C)  \\\n",
       "0           Glycine max        100         30.5                25   \n",
       "1    Phaseolus vulgaris         80         25.2                28   \n",
       "2   Medicago truncatula        120         32.1                23   \n",
       "3           Glycine max         95         28.9                27   \n",
       "4    Phaseolus vulgaris         85         26.5                26   \n",
       "5   Medicago truncatula        110         31.3                24   \n",
       "6           Glycine max        105         29.8                25   \n",
       "7    Phaseolus vulgaris         75         24.7                29   \n",
       "8   Medicago truncatula        115         30.9                22   \n",
       "9           Glycine max         90         27.6                26   \n",
       "10   Phaseolus vulgaris         70         23.8                30   \n",
       "11  Medicago truncatula        105         29.5                24   \n",
       "\n",
       "    Humedad (%) Crecimiento  \n",
       "0            60      Óptimo  \n",
       "1            55  Deficiente  \n",
       "2            58      Óptimo  \n",
       "3            62      Óptimo  \n",
       "4            59  Deficiente  \n",
       "5            61      Óptimo  \n",
       "6            63      Óptimo  \n",
       "7            56  Deficiente  \n",
       "8            57      Óptimo  \n",
       "9            64      Óptimo  \n",
       "10           58  Deficiente  \n",
       "11           62      Óptimo  "
      ]
     },
     "execution_count": 301,
     "metadata": {},
     "output_type": "execute_result"
    }
   ],
   "source": [
    "path = \"C:/Users/dardo/Desktop/Curso_estadistica/Trabajo_Final/Trabajo_Final_Dallachiesa/Tabla_Plantas.csv\"\n",
    "legumes = pd.read_csv(path,sep=';')\n",
    "legumes"
   ]
  },
  {
   "cell_type": "code",
   "execution_count": 302,
   "metadata": {},
   "outputs": [],
   "source": [
    "# agregar categorización: por encima de determinadas alturas son altas, y debajo bajas (punto de corte)\n",
    "# encontrar yo lo anterior con un histograma, \n",
    "# test de chi cuadrado para encontrar el punto de corte entre dos poblaciones\n",
    "# hacer el trabajo poner un valor de corte y hacer el test (se sabe que crecen hasta determinada altura \n",
    "# y poner eso como punto de corte para diferentes test)\n",
    "# se ha establecido que las plantas con una altura igual o superior a 28 cm se consideran de crecimiento óptimo, \n",
    "# mientras que las plantas con una altura inferior a 28 cm se consideran de crecimiento deficientes."
   ]
  },
  {
   "cell_type": "code",
   "execution_count": 303,
   "metadata": {},
   "outputs": [],
   "source": [
    "# La hipótesis planteada es:\n",
    "# Hipótesis: La humedad tiene una correlación positiva con la altura de las leguminosas.\n",
    "# Para probar esta hipótesis, se busca establecer si existe una relación significativa entre la variable de humedad \n",
    "# y la variable de altura en las leguminosas. \n",
    "# La hipótesis asume que a medida que aumenta el nivel de humedad, también aumentará la altura de las leguminosas.\n",
    "# Los pasos para llevar a cabo esta prueba son los siguientes:\n",
    "\n",
    "# Establecer las hipótesis nula (H0) y alternativa (H1):\n",
    "# H0: No hay correlación entre la humedad y la altura de las leguminosas.\n",
    "# H1: Existe una correlación positiva entre la humedad y la altura de las leguminosas."
   ]
  },
  {
   "cell_type": "code",
   "execution_count": 304,
   "metadata": {},
   "outputs": [
    {
     "data": {
      "image/png": "[encoded data removed]",
      "text/plain": [
       "<Figure size 640x480 with 1 Axes>"
      ]
     },
     "metadata": {},
     "output_type": "display_data"
    }
   ],
   "source": [
    "x = legumes['Humedad (%)']\n",
    "plt.hist(x, bins=70)\n",
    "plt.ylabel('frecuencia');\n",
    "plt.xlabel('Humedad');"
   ]
  },
  {
   "cell_type": "code",
   "execution_count": 305,
   "metadata": {},
   "outputs": [
    {
     "data": {
      "image/png": "[encoded data removed]",
      "text/plain": [
       "<Figure size 640x480 with 1 Axes>"
      ]
     },
     "metadata": {},
     "output_type": "display_data"
    }
   ],
   "source": [
    "x = legumes['Altura (cm)']\n",
    "plt.hist(x, bins=100)\n",
    "plt.ylabel('frecuencia');\n",
    "plt.xlabel('Altura');"
   ]
  },
  {
   "cell_type": "code",
   "execution_count": 306,
   "metadata": {},
   "outputs": [
    {
     "name": "stdout",
     "output_type": "stream",
     "text": [
      "El tamaño muestral necesario es: 3\n"
     ]
    },
    {
     "name": "stderr",
     "output_type": "stream",
     "text": [
      "c:\\Users\\dardo\\anaconda3\\lib\\site-packages\\scipy\\stats\\_continuous_distns.py:6832: RuntimeWarning: invalid value encountered in _nct_sf\n",
      "  return np.clip(_boost._nct_sf(x, df, nc), 0, 1)\n",
      "c:\\Users\\dardo\\anaconda3\\lib\\site-packages\\scipy\\stats\\_continuous_distns.py:6826: RuntimeWarning: invalid value encountered in _nct_cdf\n",
      "  return np.clip(_boost._nct_cdf(x, df, nc), 0, 1)\n"
     ]
    }
   ],
   "source": [
    "effect_size = abs((legumes['Altura (cm)'].max()-legumes['Altura (cm)'].min())/legumes['Altura (cm)'].std())   \n",
    "# diferencia de medias esperada\n",
    "alpha = 0.05      # nivel de significancia\n",
    "power = 0.8       # potencia\n",
    "ratio = 1         # relación entre los tamaños de las muestras\n",
    "n = smp.tt_ind_solve_power(effect_size=effect_size, alpha=alpha, power=power, ratio=ratio)\n",
    "print(\"El tamaño muestral necesario es:\", round(n))"
   ]
  },
  {
   "cell_type": "code",
   "execution_count": 307,
   "metadata": {},
   "outputs": [
    {
     "name": "stdout",
     "output_type": "stream",
     "text": [
      "El tamaño muestral necesario es: 3\n"
     ]
    }
   ],
   "source": [
    "effect_size = abs((legumes['Humedad (%)'].max()-legumes['Humedad (%)'].min())/legumes['Humedad (%)'].std())   \n",
    "# diferencia de medias esperada\n",
    "alpha = 0.05      # nivel de significancia\n",
    "power = 0.8       # potencia\n",
    "ratio = 1         # relación entre los tamaños de las muestras\n",
    "n = smp.tt_ind_solve_power(effect_size=effect_size, alpha=alpha, power=power, ratio=ratio)\n",
    "print(\"El tamaño muestral necesario es:\", round(n))"
   ]
  },
  {
   "cell_type": "code",
   "execution_count": 308,
   "metadata": {},
   "outputs": [
    {
     "name": "stdout",
     "output_type": "stream",
     "text": [
      "28.400000000000002\n",
      "2.7882871901124995\n"
     ]
    }
   ],
   "source": [
    "# Calcular la media y la desviación estándar de altura\n",
    "datos1= np.mean(legumes['Altura (cm)'])\n",
    "datos_std1 = np.std(legumes['Altura (cm)'], ddof=1)\n",
    "print (datos1)\n",
    "print (datos_std1)"
   ]
  },
  {
   "cell_type": "code",
   "execution_count": 309,
   "metadata": {},
   "outputs": [
    {
     "name": "stdout",
     "output_type": "stream",
     "text": [
      "59.583333333333336\n",
      "2.874917653629668\n"
     ]
    }
   ],
   "source": [
    "# Calcular la media y la desviación estándar de humedad\n",
    "datos2= np.mean(legumes['Humedad (%)'])\n",
    "datos_std2 = np.std(legumes['Humedad (%)'], ddof=1)\n",
    "print (datos2)\n",
    "print (datos_std2)"
   ]
  },
  {
   "cell_type": "code",
   "execution_count": 310,
   "metadata": {},
   "outputs": [
    {
     "name": "stdout",
     "output_type": "stream",
     "text": [
      "NormaltestResult(statistic=1.8910785976421935, pvalue=0.38847001297963046)\n",
      "ShapiroResult(statistic=0.9330066442489624, pvalue=0.41307348012924194)\n"
     ]
    },
    {
     "name": "stderr",
     "output_type": "stream",
     "text": [
      "c:\\Users\\dardo\\anaconda3\\lib\\site-packages\\scipy\\stats\\_stats_py.py:1736: UserWarning: kurtosistest only valid for n>=20 ... continuing anyway, n=12\n",
      "  warnings.warn(\"kurtosistest only valid for n>=20 ... continuing \"\n"
     ]
    }
   ],
   "source": [
    "print(ss.normaltest(legumes['Altura (cm)'], axis=0, nan_policy='propagate'))\n",
    "print(ss.shapiro(legumes['Altura (cm)']))"
   ]
  },
  {
   "cell_type": "code",
   "execution_count": 311,
   "metadata": {},
   "outputs": [
    {
     "name": "stdout",
     "output_type": "stream",
     "text": [
      "NormaltestResult(statistic=1.1365060230180863, pvalue=0.5665142686180424)\n",
      "ShapiroResult(statistic=0.9658291339874268, pvalue=0.8626019954681396)\n"
     ]
    }
   ],
   "source": [
    "print(ss.normaltest(legumes['Humedad (%)'], axis=0, nan_policy='propagate'))\n",
    "print(ss.shapiro(legumes['Humedad (%)']))"
   ]
  },
  {
   "cell_type": "code",
   "execution_count": 312,
   "metadata": {},
   "outputs": [
    {
     "data": {
      "text/plain": [
       "Ttest_indResult(statistic=-13.53353895715043, pvalue=0.00016243814853461255)"
      ]
     },
     "execution_count": 312,
     "metadata": {},
     "output_type": "execute_result"
    }
   ],
   "source": [
    "ss.ttest_ind(legumes['Altura (cm)'], legumes['Humedad (%)'], axis=0, equal_var=True, nan_policy='propagate', permutations=None, random_state=None, alternative='two-sided', trim=0)\n",
    "ss.ttest_ind_from_stats(datos1, datos_std1, n1, datos2, datos_std2, n2, equal_var=True, alternative='two-sided')"
   ]
  },
  {
   "cell_type": "code",
   "execution_count": 313,
   "metadata": {},
   "outputs": [],
   "source": [
    "#El valor de la estadística de prueba es -13.53353895715043. \n",
    "#Esta estadística cuantifica la diferencia entre las medias de las dos muestras y se utiliza para evaluar la significancia del resultado.\n",
    "\n",
    "#Valor p (p-value): El valor p obtenido es 0.00016243814853461255. \n",
    "#determinar si se puede rechazar o no la hipótesis nula.\n",
    "\n",
    "#valor p es menor que un umbral de significancia comúnmente utilizado, \n",
    "#se puede concluir que hay evidencia estadística para rechazar la hipótesis nula. \n",
    "#Esto indica que hay una diferencia significativa entre las medias de las dos muestras. \n",
    "#En este caso, la diferencia es negativa y el valor absoluto de la estadística de prueba es grande, \n",
    "#lo que indica que la media de la primera muestra es significativamente menor que la media de la segunda muestra.\n",
    "\n",
    "#En resumen, el resultado sugiere que hay una diferencia estadísticamente significativa entre las medias de las dos muestras \n",
    "#y que la media de la primera muestra es significativamente menor que la media de la segunda muestra."
   ]
  },
  {
   "cell_type": "code",
   "execution_count": 314,
   "metadata": {},
   "outputs": [
    {
     "name": "stdout",
     "output_type": "stream",
     "text": [
      "Crecimiento  False  True \n",
      "Altura (cm)              \n",
      "False            4      1\n",
      "True             0      7\n",
      "Empty DataFrame\n",
      "Columns: [False, True]\n",
      "Index: []\n"
     ]
    }
   ],
   "source": [
    "#tabla de contingencia (encontrar relación entre variables)\n",
    "\n",
    "df1 = pd.crosstab(legumes['Altura (cm)'] >= 28.0, legumes['Crecimiento'] == 'Óptimo')\n",
    "print(df1)\n",
    "\n",
    "#comparamos los datos en una tabla de contingencia\n",
    "groups = df1.groupby([a,b]).count() \n",
    "print (groups)"
   ]
  },
  {
   "cell_type": "code",
   "execution_count": 315,
   "metadata": {},
   "outputs": [
    {
     "name": "stdout",
     "output_type": "stream",
     "text": [
      "chi cuadrado: 5.185714285714285\n",
      "Valor p: 0.022773309501244822\n",
      "Grados de libertad: 1\n",
      "Valores esperados: [[1.66666667 3.33333333]\n",
      " [2.33333333 4.66666667]]\n"
     ]
    }
   ],
   "source": [
    "#Test de comparación de datos cualitativos (necesita una tabla de contingencia)\n",
    "# Crear la tabla de contingencia\n",
    "tabla_contingencia = pd.crosstab(legumes['Altura (cm)'] >= 28.0, legumes['Crecimiento'] == 'Óptimo')\n",
    "\n",
    "# Realizar el test de chi-cuadrado\n",
    "chi2, p_value, dof, expected = chi2_contingency(tabla_contingencia)\n",
    "\n",
    "# Imprimir los resultados\n",
    "print(\"chi cuadrado:\", chi2)\n",
    "print(\"Valor p:\", p_value)\n",
    "print(\"Grados de libertad:\", dof)\n",
    "print(\"Valores esperados:\", expected)"
   ]
  },
  {
   "cell_type": "code",
   "execution_count": 316,
   "metadata": {},
   "outputs": [
    {
     "name": "stdout",
     "output_type": "stream",
     "text": [
      "(r): 0.38672191231018677\n",
      "P value: 0.21429805054468382\n",
      "Coeficiente de regresión (pendiente): 0.3987371375116933\n",
      "Error estándar: 0.3006846923850679\n"
     ]
    }
   ],
   "source": [
    "# Obtener los datos de altura y humedad\n",
    "altura = legumes['Altura (cm)']\n",
    "humedad = legumes['Humedad (%)']\n",
    "\n",
    "# Calcular la recta de regresión\n",
    "slope, intercept, r_value, p_value, std_err = linregress(altura, humedad)\n",
    "\n",
    "print(\"(r):\", r_value)\n",
    "print(\"P value:\", p_value)\n",
    "print(\"Coeficiente de regresión (pendiente):\", slope)\n",
    "print(\"Error estándar:\", std_err)"
   ]
  }
 ],
 "metadata": {
  "kernelspec": {
   "display_name": "base",
   "language": "python",
   "name": "python3"
  },
  "language_info": {
   "codemirror_mode": {
    "name": "ipython",
    "version": 3
   },
   "file_extension": ".py",
   "mimetype": "text/x-python",
   "name": "python",
   "nbconvert_exporter": "python",
   "pygments_lexer": "ipython3",
   "version": "3.10.9"
  },
  "orig_nbformat": 4
 },
 "nbformat": 4,
 "nbformat_minor": 2
}
